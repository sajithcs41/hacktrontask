{
 "cells": [
  {
   "cell_type": "code",
   "execution_count": 1,
   "id": "9bf8f71f",
   "metadata": {},
   "outputs": [],
   "source": [
    "import pandas as pd\n",
    "import numpy as np\n",
    "import matplotlib.pyplot as plt"
   ]
  },
  {
   "cell_type": "code",
   "execution_count": 2,
   "id": "3654a4ee",
   "metadata": {},
   "outputs": [
    {
     "data": {
      "text/html": [
       "<div>\n",
       "<style scoped>\n",
       "    .dataframe tbody tr th:only-of-type {\n",
       "        vertical-align: middle;\n",
       "    }\n",
       "\n",
       "    .dataframe tbody tr th {\n",
       "        vertical-align: top;\n",
       "    }\n",
       "\n",
       "    .dataframe thead th {\n",
       "        text-align: right;\n",
       "    }\n",
       "</style>\n",
       "<table border=\"1\" class=\"dataframe\">\n",
       "  <thead>\n",
       "    <tr style=\"text-align: right;\">\n",
       "      <th></th>\n",
       "      <th>x1</th>\n",
       "      <th>x2</th>\n",
       "      <th>y</th>\n",
       "    </tr>\n",
       "  </thead>\n",
       "  <tbody>\n",
       "    <tr>\n",
       "      <th>0</th>\n",
       "      <td>-119.366669</td>\n",
       "      <td>115.000000</td>\n",
       "      <td>1</td>\n",
       "    </tr>\n",
       "    <tr>\n",
       "      <th>1</th>\n",
       "      <td>-101.108045</td>\n",
       "      <td>97.777159</td>\n",
       "      <td>1</td>\n",
       "    </tr>\n",
       "    <tr>\n",
       "      <th>2</th>\n",
       "      <td>-130.278658</td>\n",
       "      <td>106.767654</td>\n",
       "      <td>1</td>\n",
       "    </tr>\n",
       "    <tr>\n",
       "      <th>3</th>\n",
       "      <td>-114.703415</td>\n",
       "      <td>101.195477</td>\n",
       "      <td>1</td>\n",
       "    </tr>\n",
       "    <tr>\n",
       "      <th>4</th>\n",
       "      <td>-119.366669</td>\n",
       "      <td>115.000000</td>\n",
       "      <td>1</td>\n",
       "    </tr>\n",
       "  </tbody>\n",
       "</table>\n",
       "</div>"
      ],
      "text/plain": [
       "           x1          x2  y\n",
       "0 -119.366669  115.000000  1\n",
       "1 -101.108045   97.777159  1\n",
       "2 -130.278658  106.767654  1\n",
       "3 -114.703415  101.195477  1\n",
       "4 -119.366669  115.000000  1"
      ]
     },
     "execution_count": 2,
     "metadata": {},
     "output_type": "execute_result"
    }
   ],
   "source": [
    "#importing data\n",
    "data=pd.read_csv(\"data.csv\")\n",
    "data.head()"
   ]
  },
  {
   "cell_type": "code",
   "execution_count": 3,
   "id": "6787ca62",
   "metadata": {},
   "outputs": [
    {
     "name": "stdout",
     "output_type": "stream",
     "text": [
      "<class 'pandas.core.frame.DataFrame'>\n",
      "RangeIndex: 2227 entries, 0 to 2226\n",
      "Data columns (total 3 columns):\n",
      " #   Column  Non-Null Count  Dtype  \n",
      "---  ------  --------------  -----  \n",
      " 0   x1      2222 non-null   float64\n",
      " 1   x2      2224 non-null   float64\n",
      " 2   y       2227 non-null   int64  \n",
      "dtypes: float64(2), int64(1)\n",
      "memory usage: 52.3 KB\n"
     ]
    }
   ],
   "source": [
    "data.info()"
   ]
  },
  {
   "cell_type": "code",
   "execution_count": 4,
   "id": "a063aa89",
   "metadata": {},
   "outputs": [
    {
     "data": {
      "text/plain": [
       "x1    5\n",
       "x2    3\n",
       "y     0\n",
       "dtype: int64"
      ]
     },
     "execution_count": 4,
     "metadata": {},
     "output_type": "execute_result"
    }
   ],
   "source": [
    "#checking for null values \n",
    "data.isnull().sum()"
   ]
  },
  {
   "cell_type": "code",
   "execution_count": 5,
   "id": "02d28d90",
   "metadata": {},
   "outputs": [
    {
     "data": {
      "text/plain": [
       "(2227, 3)"
      ]
     },
     "execution_count": 5,
     "metadata": {},
     "output_type": "execute_result"
    }
   ],
   "source": [
    "#shape of the data\n",
    "data.shape"
   ]
  },
  {
   "cell_type": "code",
   "execution_count": 6,
   "id": "663ba46c",
   "metadata": {},
   "outputs": [],
   "source": [
    "#droping the null values\n",
    "new_data=data.dropna()"
   ]
  },
  {
   "cell_type": "code",
   "execution_count": 23,
   "id": "dc204585",
   "metadata": {},
   "outputs": [
    {
     "data": {
      "text/html": [
       "<div>\n",
       "<style scoped>\n",
       "    .dataframe tbody tr th:only-of-type {\n",
       "        vertical-align: middle;\n",
       "    }\n",
       "\n",
       "    .dataframe tbody tr th {\n",
       "        vertical-align: top;\n",
       "    }\n",
       "\n",
       "    .dataframe thead th {\n",
       "        text-align: right;\n",
       "    }\n",
       "</style>\n",
       "<table border=\"1\" class=\"dataframe\">\n",
       "  <thead>\n",
       "    <tr style=\"text-align: right;\">\n",
       "      <th></th>\n",
       "      <th>x1</th>\n",
       "      <th>x2</th>\n",
       "      <th>y</th>\n",
       "    </tr>\n",
       "  </thead>\n",
       "  <tbody>\n",
       "    <tr>\n",
       "      <th>x1</th>\n",
       "      <td>1.000000</td>\n",
       "      <td>0.037288</td>\n",
       "      <td>-0.120871</td>\n",
       "    </tr>\n",
       "    <tr>\n",
       "      <th>x2</th>\n",
       "      <td>0.037288</td>\n",
       "      <td>1.000000</td>\n",
       "      <td>-0.026735</td>\n",
       "    </tr>\n",
       "    <tr>\n",
       "      <th>y</th>\n",
       "      <td>-0.120871</td>\n",
       "      <td>-0.026735</td>\n",
       "      <td>1.000000</td>\n",
       "    </tr>\n",
       "  </tbody>\n",
       "</table>\n",
       "</div>"
      ],
      "text/plain": [
       "          x1        x2         y\n",
       "x1  1.000000  0.037288 -0.120871\n",
       "x2  0.037288  1.000000 -0.026735\n",
       "y  -0.120871 -0.026735  1.000000"
      ]
     },
     "execution_count": 23,
     "metadata": {},
     "output_type": "execute_result"
    }
   ],
   "source": [
    "#correlation values\n",
    "new_data.corr()"
   ]
  },
  {
   "cell_type": "code",
   "execution_count": 30,
   "id": "40777004",
   "metadata": {},
   "outputs": [
    {
     "data": {
      "text/plain": [
       "[<matplotlib.lines.Line2D at 0x1a1b78fd250>,\n",
       " <matplotlib.lines.Line2D at 0x1a1b78fd310>,\n",
       " <matplotlib.lines.Line2D at 0x1a1b78fd3d0>]"
      ]
     },
     "execution_count": 30,
     "metadata": {},
     "output_type": "execute_result"
    },
    {
     "data": {
      "image/png": "[encoded data removed]",
      "text/plain": [
       "<Figure size 432x288 with 1 Axes>"
      ]
     },
     "metadata": {
      "needs_background": "light"
     },
     "output_type": "display_data"
    }
   ],
   "source": [
    "plt.plot(new_data)"
   ]
  },
  {
   "cell_type": "code",
   "execution_count": 7,
   "id": "1506bd7c",
   "metadata": {},
   "outputs": [],
   "source": [
    "#spliting the data \n",
    "X = new_data.iloc[:, [0,1]].values\n",
    "y = new_data.iloc[:, 2].values"
   ]
  },
  {
   "cell_type": "code",
   "execution_count": 8,
   "id": "73bdb6ac",
   "metadata": {},
   "outputs": [],
   "source": [
    "#splitting the data into test and training data\n",
    "from sklearn.model_selection import train_test_split\n",
    "X_train, X_test, y_train, y_test = train_test_split(X,y,test_size=0.25)"
   ]
  },
  {
   "cell_type": "code",
   "execution_count": 10,
   "id": "a6b4a563",
   "metadata": {},
   "outputs": [
    {
     "data": {
      "text/html": [
       "<div>\n",
       "<style scoped>\n",
       "    .dataframe tbody tr th:only-of-type {\n",
       "        vertical-align: middle;\n",
       "    }\n",
       "\n",
       "    .dataframe tbody tr th {\n",
       "        vertical-align: top;\n",
       "    }\n",
       "\n",
       "    .dataframe thead th {\n",
       "        text-align: right;\n",
       "    }\n",
       "</style>\n",
       "<table border=\"1\" class=\"dataframe\">\n",
       "  <thead>\n",
       "    <tr style=\"text-align: right;\">\n",
       "      <th></th>\n",
       "      <th>0</th>\n",
       "      <th>1</th>\n",
       "    </tr>\n",
       "  </thead>\n",
       "  <tbody>\n",
       "    <tr>\n",
       "      <th>0</th>\n",
       "      <td>1.399599</td>\n",
       "      <td>-0.034663</td>\n",
       "    </tr>\n",
       "    <tr>\n",
       "      <th>1</th>\n",
       "      <td>1.186694</td>\n",
       "      <td>-0.034662</td>\n",
       "    </tr>\n",
       "    <tr>\n",
       "      <th>2</th>\n",
       "      <td>-0.531752</td>\n",
       "      <td>-0.034675</td>\n",
       "    </tr>\n",
       "    <tr>\n",
       "      <th>3</th>\n",
       "      <td>0.512594</td>\n",
       "      <td>-0.034688</td>\n",
       "    </tr>\n",
       "    <tr>\n",
       "      <th>4</th>\n",
       "      <td>0.309053</td>\n",
       "      <td>-0.034705</td>\n",
       "    </tr>\n",
       "    <tr>\n",
       "      <th>...</th>\n",
       "      <td>...</td>\n",
       "      <td>...</td>\n",
       "    </tr>\n",
       "    <tr>\n",
       "      <th>1659</th>\n",
       "      <td>-1.202576</td>\n",
       "      <td>-0.034713</td>\n",
       "    </tr>\n",
       "    <tr>\n",
       "      <th>1660</th>\n",
       "      <td>-0.962292</td>\n",
       "      <td>-0.034720</td>\n",
       "    </tr>\n",
       "    <tr>\n",
       "      <th>1661</th>\n",
       "      <td>-0.940205</td>\n",
       "      <td>-0.034712</td>\n",
       "    </tr>\n",
       "    <tr>\n",
       "      <th>1662</th>\n",
       "      <td>0.772456</td>\n",
       "      <td>-0.034713</td>\n",
       "    </tr>\n",
       "    <tr>\n",
       "      <th>1663</th>\n",
       "      <td>-0.210827</td>\n",
       "      <td>-0.034691</td>\n",
       "    </tr>\n",
       "  </tbody>\n",
       "</table>\n",
       "<p>1664 rows × 2 columns</p>\n",
       "</div>"
      ],
      "text/plain": [
       "             0         1\n",
       "0     1.399599 -0.034663\n",
       "1     1.186694 -0.034662\n",
       "2    -0.531752 -0.034675\n",
       "3     0.512594 -0.034688\n",
       "4     0.309053 -0.034705\n",
       "...        ...       ...\n",
       "1659 -1.202576 -0.034713\n",
       "1660 -0.962292 -0.034720\n",
       "1661 -0.940205 -0.034712\n",
       "1662  0.772456 -0.034713\n",
       "1663 -0.210827 -0.034691\n",
       "\n",
       "[1664 rows x 2 columns]"
      ]
     },
     "execution_count": 10,
     "metadata": {},
     "output_type": "execute_result"
    }
   ],
   "source": [
    "#standardzing the data\n",
    "from sklearn.preprocessing import StandardScaler\n",
    "scaler = StandardScaler()\n",
    "X_train_scaled = pd.DataFrame(scaler.fit_transform(X_train))\n",
    "X_test_scaled = pd.DataFrame(scaler.transform(X_test))\n",
    "X_train_scaled"
   ]
  },
  {
   "cell_type": "markdown",
   "id": "e9968313",
   "metadata": {},
   "source": [
    "# MODEL IMPLIMENTATIONS"
   ]
  },
  {
   "cell_type": "code",
   "execution_count": 11,
   "id": "b36995e7",
   "metadata": {},
   "outputs": [],
   "source": [
    "result_cols = ['Model Name',\n",
    "              'Training Accuracy',\n",
    "              'Testing Accuracy',\n",
    "              'Precision',\n",
    "              'Recall',\n",
    "              'F1-Score']\n",
    "results = []"
   ]
  },
  {
   "cell_type": "code",
   "execution_count": 14,
   "id": "9dc23559",
   "metadata": {},
   "outputs": [
    {
     "name": "stdout",
     "output_type": "stream",
     "text": [
      "Testing accuracy:  0.5943509615384616\n",
      "Training accuracy:  0.5495495495495496\n",
      "Precision:  0.5495495495495496\n",
      "Recall:  0.5495495495495496\n",
      "F1-Score:  0.5495495495495496\n"
     ]
    },
    {
     "data": {
      "text/plain": [
       "<sklearn.metrics._plot.confusion_matrix.ConfusionMatrixDisplay at 0x1a1b5990520>"
      ]
     },
     "execution_count": 14,
     "metadata": {},
     "output_type": "execute_result"
    },
    {
     "data": {
      "image/png": "[encoded data removed]",
      "text/plain": [
       "<Figure size 432x288 with 2 Axes>"
      ]
     },
     "metadata": {
      "needs_background": "light"
     },
     "output_type": "display_data"
    }
   ],
   "source": [
    "# Logistic Regression\n",
    "from sklearn.linear_model import LogisticRegression\n",
    "from sklearn import metrics\n",
    "lr = LogisticRegression(random_state=0).fit(X_train_scaled,y_train) \n",
    "pred = lr.predict(X_test_scaled)\n",
    "# Confusion matrix \n",
    "cm = metrics.ConfusionMatrixDisplay(confusion_matrix=metrics.confusion_matrix(y_test,pred,labels=lr.classes_),display_labels=lr.classes_)\n",
    "# Calc metrics\n",
    "train_a = lr.score(X_train_scaled,y_train)\n",
    "test_a = lr.score(X_test_scaled,y_test)\n",
    "prec = metrics.precision_score(y_test,pred,average='micro')\n",
    "rec = metrics.recall_score(y_test,pred,average='micro')\n",
    "f1 = metrics.f1_score(y_test,pred,average='micro')\n",
    "# Add to results\n",
    "results.append(['LogisticRegression',train_a,test_a,prec,rec,f1])\n",
    "# Print metrics \n",
    "print('Testing accuracy: ', train_a)\n",
    "print('Training accuracy: ', test_a)\n",
    "print('Precision: ', prec)\n",
    "print('Recall: ', rec)\n",
    "print('F1-Score: ', f1)\n",
    "# Plot confusion matrix\n",
    "cm.plot()"
   ]
  },
  {
   "cell_type": "code",
   "execution_count": 15,
   "id": "78a7c3c5",
   "metadata": {},
   "outputs": [
    {
     "name": "stdout",
     "output_type": "stream",
     "text": [
      "Testing accuracy:  0.7211538461538461\n",
      "Training accuracy:  0.4972972972972973\n",
      "Precision:  0.4972972972972973\n",
      "Recall:  0.4972972972972973\n",
      "F1-Score:  0.4972972972972973\n"
     ]
    },
    {
     "data": {
      "text/plain": [
       "<sklearn.metrics._plot.confusion_matrix.ConfusionMatrixDisplay at 0x1a1b63e20a0>"
      ]
     },
     "execution_count": 15,
     "metadata": {},
     "output_type": "execute_result"
    },
    {
     "data": {
      "image/png": "[encoded data removed]",
      "text/plain": [
       "<Figure size 432x288 with 2 Axes>"
      ]
     },
     "metadata": {
      "needs_background": "light"
     },
     "output_type": "display_data"
    }
   ],
   "source": [
    "from sklearn.neighbors import KNeighborsClassifier\n",
    "from sklearn import metrics\n",
    "# Default: n_neighbors=5 \n",
    "kn = KNeighborsClassifier().fit(X_train_scaled,y_train) \n",
    "pred = kn.predict(X_test_scaled)\n",
    "# Confusion matrix \n",
    "cm = metrics.ConfusionMatrixDisplay(confusion_matrix=metrics.confusion_matrix(y_test,pred,labels=kn.classes_),display_labels=kn.classes_)\n",
    "# Calc metrics\n",
    "train_a = kn.score(X_train_scaled,y_train)\n",
    "test_a = kn.score(X_test_scaled,y_test)\n",
    "prec = metrics.precision_score(y_test,pred,average='micro')\n",
    "rec = metrics.recall_score(y_test,pred,average='micro')\n",
    "f1 = metrics.f1_score(y_test,pred,average='micro')\n",
    "# Add to results\n",
    "results.append(['k-NN',train_a,test_a,prec,rec,f1])\n",
    "# Print metrics \n",
    "print('Testing accuracy: ', train_a)\n",
    "print('Training accuracy: ', test_a)\n",
    "print('Precision: ', prec)\n",
    "print('Recall: ', rec)\n",
    "print('F1-Score: ', f1)\n",
    "# Plot confusion matrix\n",
    "cm.plot()"
   ]
  },
  {
   "cell_type": "code",
   "execution_count": 16,
   "id": "ac355223",
   "metadata": {},
   "outputs": [
    {
     "name": "stdout",
     "output_type": "stream",
     "text": [
      "Testing accuracy:  1.0\n",
      "Training accuracy:  0.9369369369369369\n",
      "Precision:  0.9369369369369369\n",
      "Recall:  0.9369369369369369\n",
      "F1-Score:  0.9369369369369369\n"
     ]
    },
    {
     "data": {
      "text/plain": [
       "<sklearn.metrics._plot.confusion_matrix.ConfusionMatrixDisplay at 0x1a1b5bbc880>"
      ]
     },
     "execution_count": 16,
     "metadata": {},
     "output_type": "execute_result"
    },
    {
     "data": {
      "image/png": "[encoded data removed]",
      "text/plain": [
       "<Figure size 432x288 with 2 Axes>"
      ]
     },
     "metadata": {
      "needs_background": "light"
     },
     "output_type": "display_data"
    }
   ],
   "source": [
    "# Decision tree\n",
    "from sklearn.tree import DecisionTreeClassifier\n",
    "dt = DecisionTreeClassifier(random_state=0).fit(X_train_scaled,y_train) \n",
    "pred = dt.predict(X_test_scaled)\n",
    "# Confusion matrix \n",
    "cm = metrics.ConfusionMatrixDisplay(confusion_matrix=metrics.confusion_matrix(y_test,pred,labels=dt.classes_),display_labels=dt.classes_)\n",
    "# Calc metrics\n",
    "train_a = dt.score(X_train_scaled,y_train)\n",
    "test_a = dt.score(X_test_scaled,y_test)\n",
    "prec = metrics.precision_score(y_test,pred,average='micro')\n",
    "rec = metrics.recall_score(y_test,pred,average='micro')\n",
    "f1 = metrics.f1_score(y_test,pred,average='micro')\n",
    "# Add to results\n",
    "results.append(['DecisionTree',train_a,test_a,prec,rec,f1])\n",
    "# Print metrics \n",
    "print('Testing accuracy: ', train_a)\n",
    "print('Training accuracy: ', test_a)\n",
    "print('Precision: ', prec)\n",
    "print('Recall: ', rec)\n",
    "print('F1-Score: ', f1)\n",
    "# Plot confusion matrix\n",
    "cm.plot()"
   ]
  },
  {
   "cell_type": "code",
   "execution_count": 17,
   "id": "6d1c2eac",
   "metadata": {},
   "outputs": [
    {
     "name": "stdout",
     "output_type": "stream",
     "text": [
      "Testing accuracy:  0.9993990384615384\n",
      "Training accuracy:  0.9477477477477477\n",
      "Precision:  0.9477477477477477\n",
      "Recall:  0.9477477477477477\n",
      "F1-Score:  0.9477477477477477\n"
     ]
    },
    {
     "data": {
      "text/plain": [
       "<sklearn.metrics._plot.confusion_matrix.ConfusionMatrixDisplay at 0x1a1b656f280>"
      ]
     },
     "execution_count": 17,
     "metadata": {},
     "output_type": "execute_result"
    },
    {
     "data": {
      "image/png": "[encoded data removed]",
      "text/plain": [
       "<Figure size 432x288 with 2 Axes>"
      ]
     },
     "metadata": {
      "needs_background": "light"
     },
     "output_type": "display_data"
    }
   ],
   "source": [
    "# Random forest\n",
    "from sklearn.ensemble import RandomForestClassifier\n",
    "rf = RandomForestClassifier(random_state=0).fit(X_train_scaled,y_train) \n",
    "pred = rf.predict(X_test_scaled)\n",
    "# Confusion matrix \n",
    "cm = metrics.ConfusionMatrixDisplay(confusion_matrix=metrics.confusion_matrix(y_test,pred,labels=rf.classes_),display_labels=rf.classes_)\n",
    "# Calc metrics\n",
    "train_a = rf.score(X_train_scaled,y_train)\n",
    "test_a = rf.score(X_test_scaled,y_test)\n",
    "prec = metrics.precision_score(y_test,pred,average='micro')\n",
    "rec = metrics.recall_score(y_test,pred,average='micro')\n",
    "f1 = metrics.f1_score(y_test,pred,average='micro')\n",
    "# Add to results\n",
    "results.append(['RandomForest',train_a,test_a,prec,rec,f1])\n",
    "# Print metrics \n",
    "print('Testing accuracy: ', train_a)\n",
    "print('Training accuracy: ', test_a)\n",
    "print('Precision: ', prec)\n",
    "print('Recall: ', rec)\n",
    "print('F1-Score: ', f1)\n",
    "# Plot confusion matrix\n",
    "cm.plot()"
   ]
  },
  {
   "cell_type": "code",
   "execution_count": 19,
   "id": "5e0cf3cd",
   "metadata": {},
   "outputs": [
    {
     "name": "stdout",
     "output_type": "stream",
     "text": [
      "Testing accuracy:  0.5925480769230769\n",
      "Training accuracy:  0.5405405405405406\n",
      "Precision:  0.5405405405405406\n",
      "Recall:  0.5405405405405406\n",
      "F1-Score:  0.5405405405405406\n"
     ]
    },
    {
     "data": {
      "text/plain": [
       "<sklearn.metrics._plot.confusion_matrix.ConfusionMatrixDisplay at 0x1a1b667ceb0>"
      ]
     },
     "execution_count": 19,
     "metadata": {},
     "output_type": "execute_result"
    },
    {
     "data": {
      "image/png": "[encoded data removed]",
      "text/plain": [
       "<Figure size 432x288 with 2 Axes>"
      ]
     },
     "metadata": {
      "needs_background": "light"
     },
     "output_type": "display_data"
    }
   ],
   "source": [
    "# svm rbf\n",
    "from sklearn.svm import SVC\n",
    "rf = SVC(kernel='rbf', C=1.0,random_state=0).fit(X_train_scaled,y_train) \n",
    "pred = rf.predict(X_test_scaled)\n",
    "# Confusion matrix \n",
    "cm = metrics.ConfusionMatrixDisplay(confusion_matrix=metrics.confusion_matrix(y_test,pred,labels=rf.classes_),display_labels=rf.classes_)\n",
    "# Calc metrics\n",
    "train_a = rf.score(X_train_scaled,y_train)\n",
    "test_a = rf.score(X_test_scaled,y_test)\n",
    "prec = metrics.precision_score(y_test,pred,average='micro')\n",
    "rec = metrics.recall_score(y_test,pred,average='micro')\n",
    "f1 = metrics.f1_score(y_test,pred,average='micro')\n",
    "# Add to results\n",
    "results.append(['svm-rbf kernal',train_a,test_a,prec,rec,f1])\n",
    "# Print metrics \n",
    "print('Testing accuracy: ', train_a)\n",
    "print('Training accuracy: ', test_a)\n",
    "print('Precision: ', prec)\n",
    "print('Recall: ', rec)\n",
    "print('F1-Score: ', f1)\n",
    "# Plot confusion matrix\n",
    "cm.plot()"
   ]
  },
  {
   "cell_type": "code",
   "execution_count": 21,
   "id": "1597cdfb",
   "metadata": {},
   "outputs": [
    {
     "name": "stdout",
     "output_type": "stream",
     "text": [
      "Testing accuracy:  0.5691105769230769\n",
      "Training accuracy:  0.5243243243243243\n",
      "Precision:  0.5243243243243243\n",
      "Recall:  0.5243243243243243\n",
      "F1-Score:  0.5243243243243243\n"
     ]
    },
    {
     "data": {
      "text/plain": [
       "<sklearn.metrics._plot.confusion_matrix.ConfusionMatrixDisplay at 0x1a1b2ccd880>"
      ]
     },
     "execution_count": 21,
     "metadata": {},
     "output_type": "execute_result"
    },
    {
     "data": {
      "image/png": "[encoded data removed]",
      "text/plain": [
       "<Figure size 432x288 with 2 Axes>"
      ]
     },
     "metadata": {
      "needs_background": "light"
     },
     "output_type": "display_data"
    }
   ],
   "source": [
    "# svm leaner\n",
    "from sklearn.svm import SVC\n",
    "rf = SVC(kernel='linear', C=1.0,random_state=0).fit(X_train_scaled,y_train) \n",
    "pred = rf.predict(X_test_scaled)\n",
    "# Confusion matrix \n",
    "cm = metrics.ConfusionMatrixDisplay(confusion_matrix=metrics.confusion_matrix(y_test,pred,labels=rf.classes_),display_labels=rf.classes_)\n",
    "# Calc metrics\n",
    "train_a = rf.score(X_train_scaled,y_train)\n",
    "test_a = rf.score(X_test_scaled,y_test)\n",
    "prec = metrics.precision_score(y_test,pred,average='micro')\n",
    "rec = metrics.recall_score(y_test,pred,average='micro')\n",
    "f1 = metrics.f1_score(y_test,pred,average='micro')\n",
    "# Add to results\n",
    "results.append(['svm-linear kernal',train_a,test_a,prec,rec,f1])\n",
    "# Print metrics \n",
    "print('Testing accuracy: ', train_a)\n",
    "print('Training accuracy: ', test_a)\n",
    "print('Precision: ', prec)\n",
    "print('Recall: ', rec)\n",
    "print('F1-Score: ', f1)\n",
    "# Plot confusion matrix\n",
    "cm.plot()"
   ]
  },
  {
   "cell_type": "code",
   "execution_count": 22,
   "id": "d4801edb",
   "metadata": {},
   "outputs": [
    {
     "data": {
      "text/html": [
       "<div>\n",
       "<style scoped>\n",
       "    .dataframe tbody tr th:only-of-type {\n",
       "        vertical-align: middle;\n",
       "    }\n",
       "\n",
       "    .dataframe tbody tr th {\n",
       "        vertical-align: top;\n",
       "    }\n",
       "\n",
       "    .dataframe thead th {\n",
       "        text-align: right;\n",
       "    }\n",
       "</style>\n",
       "<table border=\"1\" class=\"dataframe\">\n",
       "  <thead>\n",
       "    <tr style=\"text-align: right;\">\n",
       "      <th></th>\n",
       "      <th>Model Name</th>\n",
       "      <th>Training Accuracy</th>\n",
       "      <th>Testing Accuracy</th>\n",
       "      <th>Precision</th>\n",
       "      <th>Recall</th>\n",
       "      <th>F1-Score</th>\n",
       "    </tr>\n",
       "  </thead>\n",
       "  <tbody>\n",
       "    <tr>\n",
       "      <th>3</th>\n",
       "      <td>RandomForest</td>\n",
       "      <td>0.999399</td>\n",
       "      <td>0.947748</td>\n",
       "      <td>0.947748</td>\n",
       "      <td>0.947748</td>\n",
       "      <td>0.947748</td>\n",
       "    </tr>\n",
       "    <tr>\n",
       "      <th>2</th>\n",
       "      <td>DecisionTree</td>\n",
       "      <td>1.000000</td>\n",
       "      <td>0.936937</td>\n",
       "      <td>0.936937</td>\n",
       "      <td>0.936937</td>\n",
       "      <td>0.936937</td>\n",
       "    </tr>\n",
       "    <tr>\n",
       "      <th>0</th>\n",
       "      <td>LogisticRegression</td>\n",
       "      <td>0.594351</td>\n",
       "      <td>0.549550</td>\n",
       "      <td>0.549550</td>\n",
       "      <td>0.549550</td>\n",
       "      <td>0.549550</td>\n",
       "    </tr>\n",
       "    <tr>\n",
       "      <th>4</th>\n",
       "      <td>svm-rbf kernal</td>\n",
       "      <td>0.592548</td>\n",
       "      <td>0.540541</td>\n",
       "      <td>0.540541</td>\n",
       "      <td>0.540541</td>\n",
       "      <td>0.540541</td>\n",
       "    </tr>\n",
       "    <tr>\n",
       "      <th>5</th>\n",
       "      <td>svm-linear kernal</td>\n",
       "      <td>0.569111</td>\n",
       "      <td>0.524324</td>\n",
       "      <td>0.524324</td>\n",
       "      <td>0.524324</td>\n",
       "      <td>0.524324</td>\n",
       "    </tr>\n",
       "    <tr>\n",
       "      <th>1</th>\n",
       "      <td>k-NN</td>\n",
       "      <td>0.721154</td>\n",
       "      <td>0.497297</td>\n",
       "      <td>0.497297</td>\n",
       "      <td>0.497297</td>\n",
       "      <td>0.497297</td>\n",
       "    </tr>\n",
       "  </tbody>\n",
       "</table>\n",
       "</div>"
      ],
      "text/plain": [
       "           Model Name  Training Accuracy  Testing Accuracy  Precision  \\\n",
       "3        RandomForest           0.999399          0.947748   0.947748   \n",
       "2        DecisionTree           1.000000          0.936937   0.936937   \n",
       "0  LogisticRegression           0.594351          0.549550   0.549550   \n",
       "4      svm-rbf kernal           0.592548          0.540541   0.540541   \n",
       "5   svm-linear kernal           0.569111          0.524324   0.524324   \n",
       "1                k-NN           0.721154          0.497297   0.497297   \n",
       "\n",
       "     Recall  F1-Score  \n",
       "3  0.947748  0.947748  \n",
       "2  0.936937  0.936937  \n",
       "0  0.549550  0.549550  \n",
       "4  0.540541  0.540541  \n",
       "5  0.524324  0.524324  \n",
       "1  0.497297  0.497297  "
      ]
     },
     "execution_count": 22,
     "metadata": {},
     "output_type": "execute_result"
    }
   ],
   "source": [
    "# Compile the results into a dataframe for easy comparison, sort by highest accuracy\n",
    "df_results = pd.DataFrame(results, columns=result_cols)\n",
    "df_results = df_results.sort_values(['Testing Accuracy','Training Accuracy'],ascending=False)\n",
    "df_results"
   ]
  },
  {
   "cell_type": "markdown",
   "id": "eed0d160",
   "metadata": {},
   "source": [
    "The analysis shows that random forest classifer and decision tree classifier shows highest accuracy and knn shows least accuracy from model comparisons."
   ]
  }
 ],
 "metadata": {
  "kernelspec": {
   "display_name": "Python 3",
   "language": "python",
   "name": "python3"
  },
  "language_info": {
   "codemirror_mode": {
    "name": "ipython",
    "version": 3
   },
   "file_extension": ".py",
   "mimetype": "text/x-python",
   "name": "python",
   "nbconvert_exporter": "python",
   "pygments_lexer": "ipython3",
   "version": "3.8.8"
  }
 },
 "nbformat": 4,
 "nbformat_minor": 5
}
